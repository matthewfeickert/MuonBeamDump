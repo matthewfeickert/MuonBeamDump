{
 "cells": [
  {
   "attachments": {},
   "cell_type": "markdown",
   "metadata": {},
   "source": [
    "# MUON BEAM DUMP - DARK PHOTON"
   ]
  },
  {
   "attachments": {},
   "cell_type": "markdown",
   "metadata": {},
   "source": [
    "This notebook will calculate expected yields for the bremsstrahlung production of scalar, pseudoscalar, vector, and pseudovector particles ($X$) at a hypothetical muon beam dump experiment, as a function of the new particle mass ($m_X$) and coupling to muons ($\\epsilon_X$ times the electron charge).\n",
    "\n",
    "This notebook is organized into four steps. In pricinple, all these steps can be run manually using the relevant `.py` files, and with more flexibility in parameters, but this notebook serves as a convenient pipeline to do everything at once.\n",
    "\n",
    "1. First, parameters are specified. This includes information about the beam, the target material, allowed decays, and experimental parameters. Any time a parameter is changed, a new directory with a new config file is created in `/experiments/TARGETNAME/...`, where all information regarding the run will be saved.\n",
    "2. Next, cross sections are calculated using the Weizsäcker-Williams approximation and the Improved Weizsäcker-Williams approximation as a function of the above parameters and saves them. This step takes considerable time, but the code will automatically check for existing cross section files, assuming you use the default directory naming system. This does not need to be recalculated every time, only certain parameter changes such as energy and target material require reruns. See the file `cross_sections.py` for more details.\n",
    "3. Using the above cross sections, event yields are calculated using `event_yields.py`. This primarily makes use of the `decay dictionary` parameter, where the model is specified. Saves a 2D array of expected event bins as a function of $m_X$ and $\\epsilon_X$.\n",
    "4. Plots! If you already have cross section and event yields saved, feel free to skip to this step."
   ]
  },
  {
   "cell_type": "code",
   "execution_count": 20,
   "metadata": {},
   "outputs": [],
   "source": [
    "import numpy as np"
   ]
  },
  {
   "attachments": {},
   "cell_type": "markdown",
   "metadata": {},
   "source": [
    "# Step 0: Parameters"
   ]
  },
  {
   "attachments": {},
   "cell_type": "markdown",
   "metadata": {},
   "source": [
    "Change this as you like! Some parameters are labeled `DO NOT CHANGE` -- this notebook is not equipped to handle changing these parameters automatically, but it is possible to manually change them using the relevant `.py` files."
   ]
  },
  {
   "cell_type": "code",
   "execution_count": 21,
   "metadata": {},
   "outputs": [],
   "source": [
    "from config import build_cross_section_config\n",
    "from config import build_full_config\n",
    "\n",
    "# Stuff\n",
    "E_0s = [10, 63, 1500, 5000]\n",
    "target_lengths_water = {10: 4, 63: 10, 1500: 10, 5000: 10}\n",
    "target_lengths_lead = {10: 0.5, 63: 2, 1500: 5, 5000: 5}\n",
    "\n",
    "l_T = {\"Water\" : target_lengths_water, \"Lead\" :  target_lengths_lead}\n",
    "\n",
    "# Beam Parameters\n",
    "E_0 = 10\n",
    "m_lepton = 0.105    # Colliding lepton mass [GeV] # DO NOT CHANGE\n",
    "N_mu = 1e20         # Total number of muons on target\n",
    "\n",
    "# Dump Parameters\n",
    "theta_max = 1e-2                # Maximum allowed emission angle [rad] # DO NOT CHANGE\n",
    "target_name = \"Water\"\n",
    "target_Z = 10                # Target nucleus's electric charge\n",
    "target_A = 18.02             # Target atomic mass [g/mol] ~ [GeV]\n",
    "target_density = 1           # Target material density [g/cm3]\n",
    "target_length = l_T[target_name][E_0]          # Length of target [m]\n",
    "shield_length = 10          # Length of shield [m]\n",
    "detector_length = 100       # Length of detector [m]\n",
    "\n",
    "# Model Parameters\n",
    "model_name = \"Dark Photon\"\n",
    "model_name_string = \"darkX\"\n",
    "decay_dictionary = { # Format is [weight, mass, visibility]\n",
    "                    \"electrons\" : [1, 0.000511, 1],\n",
    "                    \"muons\" : [1, 0.105, 1],\n",
    "                    \"taus\" : [1, 1.776, 1],\n",
    "                    \"neutrinos\" : [0, 0, 0],\n",
    "                    \"hadrons\" : [1, 0.105, 1], # Weight gets multiplied by Rpp\n",
    "                    }\n",
    "\n",
    "# Calculation parameters\n",
    "run_WW =  True                      # Whether to use the full WW approximation or just IWW\n",
    "if E_0 > 50:\n",
    "    run_WW = False                  # Highly recommended to set run_WW to False for large energies, takes forever otherwise!\n",
    "xbins = 1000                    \n",
    "cases = [\"Vector\"]    # DO NOT CHANGE\n",
    "m_Xs = np.logspace(-3, 3, 25)       # Range of X masses to compute for interpolation\n",
    "plot_mrange = (-2, 2)\n",
    "plot_erange = (-9, -2)\n",
    "\n",
    "\n",
    "# Directories\n",
    "cross_section_dir = f\"experiments/{target_name}/cross_sections/\"\n",
    "experiment_dir = f\"experiments/{target_name}/experiment_{model_name_string}_e{E_0}_t{target_length}_s{shield_length}_d{detector_length}/\""
   ]
  },
  {
   "cell_type": "code",
   "execution_count": 22,
   "metadata": {},
   "outputs": [],
   "source": [
    "# ##### BUILD CONFIG FILES #####\n",
    "\n",
    "# TODO: fix this function to use keyword args for convenience \n",
    "cross_section_config = build_cross_section_config(run_WW, xbins, cases, m_Xs, cross_section_dir, E_0, m_lepton, theta_max, target_name, target_Z, target_A)\n",
    "config = build_full_config(run_WW, xbins, cases, m_Xs, cross_section_dir, experiment_dir, E_0, m_lepton, theta_max, target_name, target_Z, target_A, target_density, target_length, shield_length, detector_length,  model_name_string, decay_dictionary, N_mu, plot_mrange, plot_erange)"
   ]
  },
  {
   "attachments": {},
   "cell_type": "markdown",
   "metadata": {},
   "source": [
    "# Step 1: Calculate cross sections"
   ]
  },
  {
   "attachments": {},
   "cell_type": "markdown",
   "metadata": {},
   "source": [
    "Calculates cross sections using `cross_sections.py`. Cross sections will be saved in the directory `cross_section_dir`/cross_sections_{E_0}.npy. If `run_WW` is set to `True`, the cross sections calculated using the full WW approxiamtion will be saved in `cross_section_dir`/cross_sections_{E_0}_WW.npy.\n",
    "\n",
    "If there are already files at these locations, the cross sections will not be recalculated, so this notebook can be safely rerun with the same parameter sets without danger of overriding previous calculations or waiting a long time. The only distinguishing factors between calculations are the total beam energy and material name. In principle, other factors such as `theta_max` can result in slightly different cross sections, but notebook pipeline is not set up to account for this automatically and must be manualy dealt with through manual calls to `calculate_cross_sections` with custom directory structure. "
   ]
  },
  {
   "cell_type": "code",
   "execution_count": 23,
   "metadata": {},
   "outputs": [
    {
     "name": "stdout",
     "output_type": "stream",
     "text": [
      "Checking for existing IWW cross section data at experiments/Water/cross_sections/cross_sections_10.npy ...\n",
      "Found existing IWW cross section data for Water at 10 GeV, no need to recalculate!\n",
      "Running with WW ...\n",
      "Checking for existing WW cross section data at experiments/Water/cross_sections/cross_sections_10_WW.npy ...\n",
      "Found existing WW cross section data for Water at 10 GeV, no need to recalculate!\n",
      "Cross sections for Water at 10 GeV are available!\n",
      "\n",
      "Checking for existing IWW cross section data at experiments/Water/cross_sections/cross_sections_10.npy ...\n",
      "Found existing IWW cross section data for Water at 10 GeV, no need to recalculate!\n",
      "Running with WW ...\n",
      "Checking for existing WW cross section data at experiments/Water/cross_sections/cross_sections_10_WW.npy ...\n",
      "Found existing WW cross section data for Water at 10 GeV, no need to recalculate!\n",
      "Cross sections for Water at 10 GeV are available!\n",
      "\n",
      "Checking for existing IWW cross section data at experiments/Water/cross_sections/cross_sections_63.npy ...\n",
      "Found existing IWW cross section data for Water at 63 GeV, no need to recalculate!\n",
      "Running with WW ...\n",
      "Checking for existing WW cross section data at experiments/Water/cross_sections/cross_sections_63_WW.npy ...\n",
      "Found existing WW cross section data for Water at 63 GeV, no need to recalculate!\n",
      "Cross sections for Water at 63 GeV are available!\n",
      "\n",
      "Checking for existing IWW cross section data at experiments/Water/cross_sections/cross_sections_1500.npy ...\n",
      "Found existing IWW cross section data for Water at 1500 GeV, no need to recalculate!\n",
      "Cross sections for Water at 1500 GeV are available!\n",
      "\n",
      "Checking for existing IWW cross section data at experiments/Water/cross_sections/cross_sections_5000.npy ...\n",
      "Found existing IWW cross section data for Water at 5000 GeV, no need to recalculate!\n",
      "Cross sections for Water at 5000 GeV are available!\n",
      "\n"
     ]
    }
   ],
   "source": [
    "from cross_sections import calculate_cross_sections\n",
    "\n",
    "# Calculate and save cross sections according to the cross_section_config generated in step 0\n",
    "calculate_cross_sections(cross_section_config)\n",
    "\n",
    "# Uncomment this block to build configs and calculate cross sections for many energies at once\n",
    "E0s = [10, 63, 1500, 5000]\n",
    "for e in E0s:\n",
    "    r = e < 100\n",
    "    temp_config = build_cross_section_config(r, xbins, cases, m_Xs, cross_section_dir, e, m_lepton, theta_max, target_name, target_Z, target_A)\n",
    "    calculate_cross_sections(temp_config)\n"
   ]
  },
  {
   "attachments": {},
   "cell_type": "markdown",
   "metadata": {},
   "source": [
    "# Step 2: Calculate Event Yields"
   ]
  },
  {
   "attachments": {},
   "cell_type": "markdown",
   "metadata": {},
   "source": [
    "Uses the results of Step 1 to calculate expected event yields using `event_yields.py`. Similar in operation to the first file, will not redo calculations for the same set of parameters and creates a new directory for each new set of parameters. Runs are distinguished by the model name string, the target name, the energy, and the three different length parameters.  "
   ]
  },
  {
   "cell_type": "code",
   "execution_count": 24,
   "metadata": {},
   "outputs": [
    {
     "name": "stdout",
     "output_type": "stream",
     "text": [
      "Checking for existing event yield data at experiments/Water/experiment_darkX_e10_t4_s10_d100/event_counts.npy ...\n",
      "Could not find existing event yield data for the specified experiment, calculating now ...\n"
     ]
    },
    {
     "name": "stderr",
     "output_type": "stream",
     "text": [
      "1000it [00:07, 135.18it/s]"
     ]
    },
    {
     "name": "stdout",
     "output_type": "stream",
     "text": [
      "Event yields for Water with target, shield, detector lengths of 4m, 10m, 100m, at 10 GeV are available!\n",
      "\n"
     ]
    },
    {
     "name": "stderr",
     "output_type": "stream",
     "text": [
      "\n"
     ]
    }
   ],
   "source": [
    "from event_yields import calculate_event_yields\n",
    "\n",
    "calculate_event_yields(config, force_rerun=True)"
   ]
  },
  {
   "attachments": {},
   "cell_type": "markdown",
   "metadata": {},
   "source": [
    "# Step 3: Plots!"
   ]
  },
  {
   "cell_type": "code",
   "execution_count": 26,
   "metadata": {},
   "outputs": [
    {
     "name": "stderr",
     "output_type": "stream",
     "text": [
      "No artists with labels found to put in legend.  Note that artists whose label start with an underscore are ignored when legend() is called with no argument.\n"
     ]
    },
    {
     "data": {
      "image/png": "[encoded data removed]",
      "text/plain": [
       "<Figure size 576x576 with 1 Axes>"
      ]
     },
     "metadata": {
      "needs_background": "light"
     },
     "output_type": "display_data"
    }
   ],
   "source": [
    "import matplotlib.pyplot as plt\n",
    "import matplotlib as mpl\n",
    "import os\n",
    "\n",
    "from scipy.interpolate import griddata\n",
    "\n",
    "\n",
    "try:\n",
    "    from rikabtools.plot_utils import cmaps\n",
    "    use_boring_colors = False\n",
    "    colors = [\"red\", \"yellow\", \"green\", \"blue\"]\n",
    "except:\n",
    "    # if rikabtools color gradients not available, make do\n",
    "    use_boring_colors = True\n",
    "    default_colormaps = [\"Reds\", \"YlOrBr\", \"Greens\", \"Blues\"]\n",
    "\n",
    "m_X_linspace = np.linspace(plot_mrange[0], plot_mrange[1], 100)\n",
    "epsilon_linspace = np.linspace(plot_erange[0], plot_erange[1], 100)\n",
    "Mlin, Elin = np.meshgrid(m_X_linspace, epsilon_linspace)\n",
    "\n",
    "# function to load the event counts dictionary from the default directory\n",
    "def load_events_dict(config):\n",
    "\n",
    "    experiment_name_string_ = f\"experiments/{config['Target Name']}/experiment_{config['Model String']}_e{config['E_0']}_t{config['Target Length']}_s{config['Shield Length']}_d{config['Detector Length']}\"\n",
    "    return np.load(f\"{experiment_name_string_}/event_counts.npy\", allow_pickle=True)[()]\n",
    "\n",
    "\n",
    "\n",
    "\n",
    "\n",
    "def exclusion_plot(case, levels, cmap, labels, nan_value = -30, use_epsilon = True, use_g = False, font_size = 20, font_family = \"serif\", font_set = \"cm\"):\n",
    "\n",
    "    \n",
    "\n",
    "\n",
    "    m_X_linspace = np.logspace(plot_mrange[0], plot_mrange[1], 100)\n",
    "    epsilon_linspace = np.logspace(plot_erange[0], plot_erange[1], 100)\n",
    "    Mlin, Elin = np.meshgrid(m_X_linspace, epsilon_linspace)\n",
    "\n",
    "    # Check which coupling scaling to use\n",
    "    if use_epsilon == use_g:\n",
    "        raise ValueError(\"Must have use_epsilon XOR use_g be true -- cannot have both or neither!\")\n",
    "\n",
    "\n",
    "    fig, ax = plt.subplots(constrained_layout=True, figsize=(8, 8))\n",
    "\n",
    "    plt.xscale(\"log\")\n",
    "    plt.yscale(\"log\")\n",
    "\n",
    "    # Font Shenanigans\n",
    "    mpl.rcParams['font.family']=font_family\n",
    "    # cmfont = font_manager.FontProperties(fname=mpl.get_data_path() + '/fonts/ttf/cmr10.ttf')\n",
    "    # mpl.rcParams['font.serif']=cmfont.get_name()\n",
    "    mpl.rcParams['mathtext.fontset']=font_set\n",
    "    plt.rcParams.update({'font.size': font_size})\n",
    "\n",
    "\n",
    "    # Load events\n",
    "    events = load_events_dict(config)[case]\n",
    "    white_events = np.log10(events)\n",
    "    white_events[white_events  < -3 ] = np.NaN\n",
    "    white_events = np.nan_to_num(white_events, nan = nan_value)\n",
    "\n",
    "    plt.contourf(Mlin, Elin, white_events, levels = levels, cmap =  cmap, alpha = 0.25, extend = \"max\")\n",
    "    contours = plt.contour(Mlin, Elin, white_events, levels = levels, cmap = cmap, lw = 3)\n",
    "    \n",
    "    fmt = {}\n",
    "    for l, label in zip(contours.levels, labels):\n",
    "        fmt[l] = label\n",
    "    clabels = plt.clabel(contours, inline=True, levels=levels, fmt = fmt, colors = \"black\", rightside_up = True)\n",
    "    # for label in clabels:\n",
    "    #     label.set_va(\"bottom\")\n",
    "    \n",
    "\n",
    "\n",
    "\n",
    "    plt.xlabel(\"$m_X$ [GeV]\")\n",
    "    plt.ylabel(\"$\\epsilon_X$\")\n",
    "    # plt.title(f\"{case} Case: \" + r\"$\\mu+N \\to \\mu+N+X$\")\n",
    "\n",
    "    # if not run_WW:\n",
    "    #     plt.text(0.6, 0.99 - 0.05*1, r\"Using IWW\", fontsize = 20, transform = plt.gca().transAxes)\n",
    "    # else:\n",
    "    #     plt.text(0.6, 0.99 - 0.05*1, r\"Using WW\", fontsize = 20, transform = plt.gca().transAxes)\n",
    "    plt.text(0.15, 0.99 - 0.05*1, r\"Muon Beam Dump\", fontsize = 20, transform = plt.gca().transAxes)\n",
    "    plt.text(0.15, 0.99 - 0.05*3, r\"$E_0 = %d$ GeV\" % E_0, fontsize = 20, transform = plt.gca().transAxes)\n",
    "    # plt.text(0.6, 0.99 - 0.05*3, r\"$N_\\mu = 10^{20}$\", fontsize = 20, transform = plt.gca().transAxes)\n",
    "    plt.text(0.15, 0.99 - 0.05*2, f\"{target_name} Target\", fontsize = 20, transform = plt.gca().transAxes)\n",
    "    plt.text(0.6, 0.99 - 0.05*1, r\"$L_{tar} = %.1f$ m\" % target_length, fontsize = 20, transform = plt.gca().transAxes)\n",
    "    plt.text(0.6, 0.99 - 0.05*2, r\"$L_{sh} = %.1f$ m\" % shield_length, fontsize = 20, transform = plt.gca().transAxes)\n",
    "    plt.text(0.6, 0.99 - 0.05*3, r\"$L_{dec} = %.1f$ m\" % detector_length, fontsize = 20, transform = plt.gca().transAxes)\n",
    "    plt.text(0.6, 0.99 - 0.05*4, r\"$\\theta_{max} = 10^{-2}$\", fontsize = 20, transform = plt.gca().transAxes)\n",
    "\n",
    "    plt.text(0.99, 0.01, model_name, fontsize = 24, transform = plt.gca().transAxes, ha = \"right\", va = \"bottom\")\n",
    "    plt.legend(frameon = False, loc = \"upper left\")\n",
    "\n",
    "    # plt.savefig(f\"tex/Figures/exclusions_{case}_{E_0}.pdf\", transparent = False)\n",
    "\n",
    "\n",
    "    plt.savefig(f\"{config['Experiment Directory']}/exclusions_{case}.pdf\", transparent = False)\n",
    "    os.makedirs(f\"tex/Figures/Exclusions/{model_name_string}/{config['Target Name']}/\", exist_ok=True)\n",
    "    plt.savefig(f\"tex/Figures/Exclusions/{model_name_string}/{config['Target Name']}/exclusions_{case}_e{E_0}.pdf\", transparent = False)\n",
    "    plt.show()\n",
    "\n",
    "\n",
    "\n",
    "# exclusion_plot(\"Scalar\", [np.log10(5e-2), np.log10(5), np.log10(5e2)], \"Reds\",\n",
    "#                 labels = [r\"$N_{\\mu} = 10^{22}$\", r\"$N_{\\mu} = 10^{20}$\", r\"$N_{\\mu} = 10^{18}$\"])\n",
    "# exclusion_plot(\"Pseudoscalar\", [np.log10(5e-2), np.log10(5), np.log10(5e2)], \"YlOrBr\",\n",
    "#                 labels = [r\"$N_{\\mu} = 10^{22}$\", r\"$N_{\\mu} = 10^{20}$\", r\"$N_{\\mu} = 10^{18}$\"])\n",
    "exclusion_plot(\"Vector\", [np.log10(5e-2), np.log10(5), np.log10(5e2)], \"Greens\",\n",
    "                labels = [r\"$N_{\\mu} = 10^{22}$\", r\"$N_{\\mu} = 10^{20}$\", r\"$N_{\\mu} = 10^{18}$\"])\n",
    "# exclusion_plot(\"Axial Vector\", [np.log10(5e-2), np.log10(5), np.log10(5e2)], \"Blues\",\n",
    "#                 labels = [r\"$N_{\\mu} = 10^{22}$\", r\"$N_{\\mu} = 10^{20}$\", r\"$N_{\\mu} = 10^{18}$\"])\n",
    "\n",
    "# for (c, case) in enumerate(cases):\n",
    "#     if c < 4:\n",
    "\n",
    "\n",
    "#         mpl.rcParams['font.family']='serif'\n",
    "#         # cmfont = font_manager.FontProperties(fname=mpl.get_data_path() + '/fonts/ttf/cmr10.ttf')\n",
    "#         # mpl.rcParams['font.serif']=cmfont.get_name()\n",
    "#         mpl.rcParams['mathtext.fontset']='cm'\n",
    "\n",
    "#         plt.rcParams.update({'font.size': 20})\n",
    "#         fig, ax = plt.subplots(constrained_layout=True, figsize=(8, 8))\n",
    "\n",
    "\n",
    "#         events = load_events_dict(config)\n",
    "#         plot_contour(case, c, events, weight = np.log10(5e-2), color_weight = 1, label= \"$10^{22}$\")\n",
    "#         plot_contour(case, c, events, weight = np.log10(5e0), color_weight = 0.5, label= \"$10^{20}$\")\n",
    "#         plot_contour(case, c, events, weight = np.log10(5e2), color_weight = 0.0, label= \"$10^{18}$\")\n",
    "\n",
    "#         # for i in m_Xs:\n",
    "#         #     plt.axvline(np.log10(i))\n",
    "\n",
    "#         plt.xlabel(\"log$_{10}(m_X/$GeV)\")\n",
    "#         plt.ylabel(\"log$_{10}(\\epsilon_X)$\")\n",
    "#         # plt.title(f\"{case} Case: \" + r\"$\\mu+N \\to \\mu+N+X$\")\n",
    "\n",
    "#         # if not run_WW:\n",
    "#         #     plt.text(0.6, 0.99 - 0.05*1, r\"Using IWW\", fontsize = 20, transform = plt.gca().transAxes)\n",
    "#         # else:\n",
    "#         #     plt.text(0.6, 0.99 - 0.05*1, r\"Using WW\", fontsize = 20, transform = plt.gca().transAxes)\n",
    "#         plt.text(0.6, 0.99 - 0.05*1, r\"Muon Beam Dump\", fontsize = 20, transform = plt.gca().transAxes)\n",
    "#         plt.text(0.6, 0.99 - 0.05*3, r\"$E_0 = %d$ GeV\" % E_0, fontsize = 20, transform = plt.gca().transAxes)\n",
    "#         # plt.text(0.6, 0.99 - 0.05*3, r\"$N_\\mu = 10^{20}$\", fontsize = 20, transform = plt.gca().transAxes)\n",
    "#         plt.text(0.6, 0.99 - 0.05*2, f\"{target_name} Target\", fontsize = 20, transform = plt.gca().transAxes)\n",
    "#         plt.text(0.6, 0.99 - 0.05*4, r\"$L_{tar} = %.1f$ m\" % target_length, fontsize = 20, transform = plt.gca().transAxes)\n",
    "#         plt.text(0.6, 0.99 - 0.05*5, r\"$L_{sh} = %.1f$ m\" % shield_length, fontsize = 20, transform = plt.gca().transAxes)\n",
    "#         plt.text(0.6, 0.99 - 0.05*6, r\"$L_{dec} = %.1f$ m\" % detector_length, fontsize = 20, transform = plt.gca().transAxes)\n",
    "#         plt.text(0.6, 0.99 - 0.05*7, r\"$\\theta_{max} = 10^{-2}$\", fontsize = 20, transform = plt.gca().transAxes)\n",
    "\n",
    "#         plt.text(0.2, 0.05, model_names[case], fontsize = 30, transform = plt.gca().transAxes)\n",
    "#         plt.legend(frameon = False, loc = \"upper left\")\n",
    "\n",
    "#         # plt.savefig(f\"tex/Figures/exclusions_{case}_{E_0}.pdf\", transparent = False)\n",
    "#         plt.savefig(f\"{config['Experiment Directory']}/exclusions_{case}.pdf\", transparent = False)\n",
    "#         plt.show()"
   ]
  },
  {
   "cell_type": "code",
   "execution_count": null,
   "metadata": {},
   "outputs": [],
   "source": []
  },
  {
   "cell_type": "code",
   "execution_count": null,
   "metadata": {},
   "outputs": [],
   "source": []
  }
 ],
 "metadata": {
  "kernelspec": {
   "display_name": "Python 3",
   "language": "python",
   "name": "python3"
  },
  "language_info": {
   "codemirror_mode": {
    "name": "ipython",
    "version": 3
   },
   "file_extension": ".py",
   "mimetype": "text/x-python",
   "name": "python",
   "nbconvert_exporter": "python",
   "pygments_lexer": "ipython3",
   "version": "3.8.3"
  },
  "orig_nbformat": 4
 },
 "nbformat": 4,
 "nbformat_minor": 2
}
