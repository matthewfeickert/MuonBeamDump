{
 "cells": [
  {
   "cell_type": "code",
   "execution_count": 2,
   "metadata": {},
   "outputs": [],
   "source": [
    "import numpy as np\n",
    "import matplotlib.pyplot as plt"
   ]
  },
  {
   "cell_type": "code",
   "execution_count": 8,
   "metadata": {},
   "outputs": [],
   "source": [
    "# approximate dE/dz as a constant, pretty good approximation\n",
    "\n",
    "dEdz = 1.5 # [cm2/g]\n",
    "rho = 11.2 # [g/cm3]\n",
    "\n",
    "l_target = 10 # [m]\n",
    "target_bins = 1000\n",
    "target_dz = l_target / target_bins\n",
    "\n",
    "# #########################################\n",
    "# ########## STEP 0: Config File ##########\n",
    "# #########################################\n",
    "\n",
    "# Beam Parameters\n",
    "E_0 = 1500          # Beam Energy [GeV]\n",
    "m_lepton = 0.105    # Colliding lepton mass [GeV] # DO NOT CHANGE\n",
    "N_mu = 1e20         # Total number of muons on target\n",
    "\n",
    "# Dump Parameters\n",
    "theta_max = 1e-2                # Maximum allowed emission angle [rad] # DO NOT CHANGE\n",
    "target_name = \"Water\"\n",
    "target_Z = 10                # Target nucleus's electric charge\n",
    "target_A = 18.02             # Target atomic mass [g/mol] ~ [GeV]\n",
    "target_density = 1           # Target material density [g/cm3]\n",
    "target_length = 10          # Length of target [m]\n",
    "shield_length = 10          # Length of shield [m]\n",
    "detector_length = 100       # Length of detector [m]\n",
    "\n",
    "# Model Parameters\n",
    "model_name_string = \"darkX\"\n",
    "decay_dictionary = { # Format is [weight, mass]\n",
    "                    \"electrons\" : [1, 0.000511],\n",
    "                    \"muons\" : [1, 0.105],\n",
    "                    \"taus\" : [1, 1.776],\n",
    "                    \"neutrinos\" : [0, 0],\n",
    "                    \"hadrons\" : [1, 0.105], # Weight gets multiplied by Rpp\n",
    "                    }\n",
    "\n",
    "# Calculation parameters\n",
    "run_WW =  True                      # Whether to use the full WW approximation or just IWW\n",
    "if E_0 > 50:\n",
    "    run_WW = False                  # Highly recommended to set run_WW to False for large energies, takes forever otherwise!\n",
    "xbins = 1000                    \n",
    "cases = [\"Scalar\", \"Pseudoscalar\", \"Vector\", \"Axial Vector\"]    # DO NOT CHANGE\n",
    "m_Xs = np.logspace(-3, 3, 25)       # Range of X masses to compute for interpolation\n",
    "\n",
    "\n",
    "# Directories\n",
    "cross_section_dir = f\"experiments/{target_name}/cross_sections/\"\n",
    "experiment_dir = f\"experiments/{target_name}/experiment_{model_name_string}_e{E_0}_t{target_length}_s{shield_length}_d{detector_length}/\""
   ]
  },
  {
   "cell_type": "code",
   "execution_count": 10,
   "metadata": {},
   "outputs": [
    {
     "data": {
      "text/plain": [
       "[<matplotlib.lines.Line2D at 0x11e771a00>]"
      ]
     },
     "execution_count": 10,
     "metadata": {},
     "output_type": "execute_result"
    },
    {
     "data": {
      "image/png": "[encoded data removed]",
      "text/plain": [
       "<Figure size 432x288 with 1 Axes>"
      ]
     },
     "metadata": {
      "needs_background": "light"
     },
     "output_type": "display_data"
    }
   ],
   "source": [
    "target_zs = np.linspace(0, target_length, target_bins)\n",
    "Es = E_0 - target_zs * dEdz * rho\n",
    "plt.plot(target_zs, Es)"
   ]
  },
  {
   "cell_type": "code",
   "execution_count": 7,
   "metadata": {},
   "outputs": [],
   "source": [
    "muon_fraction = 1\n",
    "x = 0.9\n",
    "\n"
   ]
  },
  {
   "cell_type": "code",
   "execution_count": null,
   "metadata": {},
   "outputs": [],
   "source": []
  }
 ],
 "metadata": {
  "interpreter": {
   "hash": "7e344144e0551add7908bc91b690df15aed147e41240398f46192e06de7104a5"
  },
  "kernelspec": {
   "display_name": "Python 3.9.5 ('base')",
   "language": "python",
   "name": "python3"
  },
  "language_info": {
   "codemirror_mode": {
    "name": "ipython",
    "version": 3
   },
   "file_extension": ".py",
   "mimetype": "text/x-python",
   "name": "python",
   "nbconvert_exporter": "python",
   "pygments_lexer": "ipython3",
   "version": "3.9.5"
  },
  "orig_nbformat": 4
 },
 "nbformat": 4,
 "nbformat_minor": 2
}
